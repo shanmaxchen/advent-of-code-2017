{
 "cells": [
  {
   "cell_type": "code",
   "execution_count": null,
   "metadata": {},
   "outputs": [],
   "source": [
    "import numpy as np\n",
    "\n",
    "num=1024\n",
    "count=0\n",
    "\n",
    "while np.sqrt(num)%1:\n",
    "    num-=1\n",
    "    count+=1\n",
    "pos=(np.sqrt(num)-1)/2\n",
    "\n",
    "while count>pos:\n",
    "    count=count-pos\n",
    "\n",
    "print(abs(pos)*2-count)"
   ]
  }
 ],
 "metadata": {
  "kernelspec": {
   "display_name": "Python 3",
   "language": "python",
   "name": "python3"
  },
  "language_info": {
   "codemirror_mode": {
    "name": "ipython",
    "version": 3
   },
   "file_extension": ".py",
   "mimetype": "text/x-python",
   "name": "python",
   "nbconvert_exporter": "python",
   "pygments_lexer": "ipython3",
   "version": "3.6.3"
  }
 },
 "nbformat": 4,
 "nbformat_minor": 2
}
